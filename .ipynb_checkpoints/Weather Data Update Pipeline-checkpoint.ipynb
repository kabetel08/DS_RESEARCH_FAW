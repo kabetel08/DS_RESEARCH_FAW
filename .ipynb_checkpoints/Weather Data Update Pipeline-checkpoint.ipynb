{
 "cells": [
  {
   "cell_type": "code",
   "execution_count": 30,
   "metadata": {},
   "outputs": [],
   "source": [
    "import numpy as np\n",
    "import pandas as pd\n",
    "import matplotlib.pyplot as plt\n",
    "import seaborn as sns\n",
    "import requests\n",
    "import re\n",
    "import os\n",
    "import codecs\n",
    "import ftplib\n",
    "import urllib\n",
    "import tarfile\n",
    "import gzip\n",
    "import shutil\n",
    "import datetime"
   ]
  },
  {
   "cell_type": "markdown",
   "metadata": {},
   "source": [
    "# Weather Import Pipeline\n",
    "\n",
    "### Data Cleaning Process:\n",
    "\n",
    "-  Filled `NaN` in `PRCP` with 0 (i.e. assuming `NaN` means \"no rain\")\n",
    "\n",
    "-  Divide all temperatures (`TMIN`, `TAVG`, `TMAX`) by 10 (originally measured in tenths of degrees C, now just degrees C)\n",
    "\n",
    "-  For `NaN` values in `TMIN` and `TMAX`:\n",
    "    - Take the mean of the differences of `TMIN` and `TAVG` (or `TMAX` and `TAVG`)\n",
    "    - Fill `NaN` by adding or subtracting the mean difference from `TAVG`\n",
    "    - Example:\n",
    "    \n",
    "Before:\n",
    "\n",
    "TMIN | TAVG | TMAX\n",
    "--- | --- | ---\n",
    "NaN | 10 | NaN\n",
    "\n",
    "\n",
    "```\n",
    "avg_min_diff = 5\n",
    "avg_max_diff = 3\n",
    "```\n",
    "\n",
    "After:\n",
    "\n",
    "TMIN | TAVG | TMAX\n",
    "--- | --- | ---\n",
    "5 | 10 | 13\n",
    "\n",
    "        "
   ]
  },
  {
   "cell_type": "code",
   "execution_count": 48,
   "metadata": {},
   "outputs": [],
   "source": [
    "def import_transform(stations,yr):\n",
    "    print('retrieving file...')\n",
    "    urllib.request.urlretrieve('ftp://ftp.ncdc.noaa.gov/pub/data/ghcn/daily/by_year/'+yr+'.csv.gz','new'+yr+'.csv.gz')\n",
    "    print('unzipping...')\n",
    "    with gzip.open('new'+yr+'.csv.gz', 'rb') as f_in:\n",
    "        with open('new'+yr+'.csv', 'wb') as f_out:\n",
    "            shutil.copyfileobj(f_in, f_out)\n",
    "    print('making dataframe...')\n",
    "    to_add = pd.read_csv(\"new\"+yr+\".csv\",names=[\"Station\",'Date',\"Element\",\"Value\",'Flag1','Flag2','Flag3','Time'])\n",
    "    print('selecting relevant data...')\n",
    "    to_add.drop(['Flag1','Flag2','Flag3','Time'],axis='columns',inplace=True)\n",
    "    to_add = to_add.loc[to_add['Station'].isin(inbounds['ID'].values),:]\n",
    "    print('reformatting...')\n",
    "    piv = to_add.pivot_table(values='Value',columns='Element',index=['Station','Date']).reset_index()\n",
    "    piv.columns.name = None\n",
    "    piv.rename({'Station':'ID'},axis='columns',inplace=True)\n",
    "    print('Done!')\n",
    "    return piv\n",
    "\n",
    "def merge_clean(df,stations,country_dict):\n",
    "    \n",
    "    df['Date'] = pd.to_datetime(df['Date'],format=\"%Y%m%d\")\n",
    "    df = df.merge(stations,how='left',on='ID')\n",
    "    df = df[['ID','Date','LAT','LON','ELV','TAVG','TMAX','TMIN','PRCP']]\n",
    "    df['Country'] = df['ID'].str.slice(stop=2)\n",
    "    df = df[['Country','ID','Date','LAT','LON','ELV','TAVG','TMAX','TMIN','PRCP']]\n",
    "    df['Country'].replace(to_replace=country_dict,inplace=True)\n",
    "    df = df.sort_values(by=['Date','Country']).reset_index(drop=True)\n",
    "    df['PRCP'] = df.loc[:,'PRCP'].fillna(0)\n",
    "    df.loc[:,['TAVG','TMAX','TMIN']] = df.copy().loc[:,['TAVG','TMAX','TMIN']]/10\n",
    "    avgdiff_maxavg = np.mean(df['TMAX']-df['TAVG'])\n",
    "    avgdiff_avgmin = np.mean(df['TAVG']-df['TMIN'])\n",
    "    df['TMAX'] = df.loc[:,'TMAX'].fillna(df['TAVG']+avgdiff_maxavg)\n",
    "    df['TMIN'] = df.loc[:,'TMIN'].fillna(df['TAVG']-avgdiff_avgmin)\n",
    "    return df"
   ]
  },
  {
   "cell_type": "code",
   "execution_count": null,
   "metadata": {},
   "outputs": [],
   "source": [
    "# station info\n",
    "inbounds = pd.read_csv('inbounds.csv',index_col=0)\n",
    "\n",
    "# load current dataset\n",
    "current = pd.read_csv('all_weather.csv')\n",
    "\n",
    "# dict to convert country codes to country names\n",
    "countries = pd.read_fwf('ghcnd-countries.txt')\n",
    "\n",
    "rpl = dict(zip(countries['ID'],countries['Name']))"
   ]
  },
  {
   "cell_type": "code",
   "execution_count": null,
   "metadata": {},
   "outputs": [],
   "source": [
    "year = '2019'\n",
    "allnew = merge_clean(import_transform(inbounds,year),inbounds,rpl)\n",
    "new_data = allnew.loc[-allnew['Date'].isin(test['Date'].values),:]\n",
    "current = pd.concat([current,new_data])\n",
    "current.to_csv('all_weather.csv')\n",
    "os.remove('new'+year+'.csv.gz')\n",
    "os.remove('new'+year+'.csv')"
   ]
  }
 ],
 "metadata": {
  "kernelspec": {
   "display_name": "Python 3",
   "language": "python",
   "name": "python3"
  },
  "language_info": {
   "codemirror_mode": {
    "name": "ipython",
    "version": 3
   },
   "file_extension": ".py",
   "mimetype": "text/x-python",
   "name": "python",
   "nbconvert_exporter": "python",
   "pygments_lexer": "ipython3",
   "version": "3.6.6"
  }
 },
 "nbformat": 4,
 "nbformat_minor": 2
}
